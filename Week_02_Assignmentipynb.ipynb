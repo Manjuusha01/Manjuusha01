{
  "nbformat": 4,
  "nbformat_minor": 0,
  "metadata": {
    "colab": {
      "provenance": []
    },
    "kernelspec": {
      "name": "python3",
      "display_name": "Python 3"
    },
    "language_info": {
      "name": "python"
    }
  },
  "cells": [
    {
      "cell_type": "code",
      "execution_count": null,
      "metadata": {
        "id": "U2aWGtDe2rtS"
      },
      "outputs": [],
      "source": []
    },
    {
      "cell_type": "markdown",
      "source": [
        "Assignment problems"
      ],
      "metadata": {
        "id": "-_-98-O02sUp"
      }
    },
    {
      "cell_type": "markdown",
      "source": [
        "1."
      ],
      "metadata": {
        "id": "ztLaVKyU2vy9"
      }
    },
    {
      "cell_type": "code",
      "source": [
        "import random\n",
        "\n",
        "secretNumber = random.randint(1, 10)\n",
        "\n",
        "while True:\n",
        "    guess = int(input(\"Enter a number between 1 and 10: \"))\n",
        "\n",
        "    if guess == secretNumber:\n",
        "        print(\"Congratulations! You passed the number correctly!\")\n",
        "        break\n",
        "    elif guess > secretNumber:\n",
        "        print(\"Too high! Try again\")\n",
        "    else:\n",
        "        print(\"Too low! Try again\")\n",
        "\n",
        "\n"
      ],
      "metadata": {
        "id": "RvMJrj9m_Kmg",
        "outputId": "12568c05-da82-4b2a-baaf-aa09c28de628",
        "colab": {
          "base_uri": "https://localhost:8080/"
        }
      },
      "execution_count": null,
      "outputs": [
        {
          "output_type": "stream",
          "name": "stdout",
          "text": [
            "Enter a number between 1 and 10: 9\n",
            "Too high! Try again\n",
            "Enter a number between 1 and 10: 2\n",
            "Too low! Try again\n"
          ]
        }
      ]
    },
    {
      "cell_type": "markdown",
      "source": [
        "2."
      ],
      "metadata": {
        "id": "GmpcjlhE21xb"
      }
    },
    {
      "cell_type": "code",
      "source": [
        "def factorial(N):\n",
        " if N == 0 or N == 1:\n",
        "      return 1\n",
        " else:\n",
        "      return N * factorial(N-1)\n",
        "number = int(input(\"Enter a positive integer to find its factorial: \"))\n",
        "if number < 0:\n",
        "  print(\"Factorial is not defined for negative number: \")\n",
        "else:\n",
        "  print(\"Factorial of\",number,\"is\",factorial(number))\n"
      ],
      "metadata": {
        "id": "dM4kCwiZ25ag",
        "colab": {
          "base_uri": "https://localhost:8080/"
        },
        "outputId": "06f2ef51-1225-4c40-fb8c-fcaeadd86515"
      },
      "execution_count": 8,
      "outputs": [
        {
          "output_type": "stream",
          "name": "stdout",
          "text": [
            "Enter a positive integer to find its factorial: 5\n",
            "Factorial of 5 is 120\n"
          ]
        }
      ]
    },
    {
      "cell_type": "markdown",
      "source": [
        "3."
      ],
      "metadata": {
        "id": "mBmloX4F24fI"
      }
    },
    {
      "cell_type": "code",
      "source": [
        "L = int(input(\"Enter the minimum dimension L: \"))\n",
        "N = int(input(\"Enter the number of photos N: \"))\n",
        "\n",
        "for i in range(N):\n",
        "  W, H = int(input(\"Enter the dimension (W x H) of photo: \"))\n",
        "\n",
        "  if W < L or H < L:\n",
        "    print(\"UPLOAD PHOTO\")\n",
        "  elif W == H:\n",
        "    print(\"ACCEPTED\")\n",
        "  else:\n",
        "    print(\"CROP IT\")"
      ],
      "metadata": {
        "id": "giXVSYdKCrs_"
      },
      "execution_count": null,
      "outputs": []
    }
  ]
}
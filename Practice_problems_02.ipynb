{
  "nbformat": 4,
  "nbformat_minor": 0,
  "metadata": {
    "colab": {
      "provenance": []
    },
    "kernelspec": {
      "name": "python3",
      "display_name": "Python 3"
    },
    "language_info": {
      "name": "python"
    }
  },
  "cells": [
    {
      "cell_type": "markdown",
      "source": [
        "Practice Problems"
      ],
      "metadata": {
        "id": "P53c94DJWFSh"
      }
    },
    {
      "cell_type": "code",
      "source": [],
      "metadata": {
        "id": "PU9ZQIPyWQ67"
      },
      "execution_count": null,
      "outputs": []
    },
    {
      "cell_type": "markdown",
      "source": [
        "1."
      ],
      "metadata": {
        "id": "_aogTHgzWSpD"
      }
    },
    {
      "cell_type": "code",
      "source": [
        "list1=[10,20,30,40,50,60,70]\n",
        "print(sum(list1))"
      ],
      "metadata": {
        "colab": {
          "base_uri": "https://localhost:8080/"
        },
        "id": "WkG8Qw7JWTdZ",
        "outputId": "a87c0d92-f7a9-4d7d-9712-80d23941b07d"
      },
      "execution_count": null,
      "outputs": [
        {
          "output_type": "stream",
          "name": "stdout",
          "text": [
            "280\n"
          ]
        }
      ]
    },
    {
      "cell_type": "markdown",
      "source": [
        "2."
      ],
      "metadata": {
        "id": "WG4s1qUUaRn1"
      }
    },
    {
      "cell_type": "markdown",
      "source": [
        "a)"
      ],
      "metadata": {
        "id": "2RPrZs9VacIO"
      }
    },
    {
      "cell_type": "code",
      "source": [
        "str = \"Today is a beautiful day\"\n",
        "print(len(str))"
      ],
      "metadata": {
        "colab": {
          "base_uri": "https://localhost:8080/"
        },
        "id": "IomHB52nYAxH",
        "outputId": "2d194058-c5d9-4ca6-e9a5-5f6b296ae115"
      },
      "execution_count": null,
      "outputs": [
        {
          "output_type": "stream",
          "name": "stdout",
          "text": [
            "24\n"
          ]
        }
      ]
    },
    {
      "cell_type": "markdown",
      "source": [
        "b)"
      ],
      "metadata": {
        "id": "GV6Q2B60anbX"
      }
    },
    {
      "cell_type": "code",
      "source": [
        "print(str[:12])"
      ],
      "metadata": {
        "colab": {
          "base_uri": "https://localhost:8080/"
        },
        "id": "SPIJC_SsZCMt",
        "outputId": "a9408f77-8d66-46e9-dcbf-0921e5948dcd"
      },
      "execution_count": null,
      "outputs": [
        {
          "output_type": "stream",
          "name": "stdout",
          "text": [
            "Today is a b\n"
          ]
        }
      ]
    },
    {
      "cell_type": "markdown",
      "source": [
        "3."
      ],
      "metadata": {
        "id": "mBEY_8OUbA3b"
      }
    },
    {
      "cell_type": "code",
      "source": [
        "tuple = (78,45,32,19,82,77,40,39)\n",
        "list = [tuple]\n",
        "print(type(list))"
      ],
      "metadata": {
        "id": "6MSw-kJzbDjS",
        "colab": {
          "base_uri": "https://localhost:8080/"
        },
        "outputId": "76ee7cbf-aee5-4b19-856f-d284685ce0ae"
      },
      "execution_count": null,
      "outputs": [
        {
          "output_type": "stream",
          "name": "stdout",
          "text": [
            "<class 'list'>\n"
          ]
        }
      ]
    },
    {
      "cell_type": "code",
      "source": [
        "print(list)"
      ],
      "metadata": {
        "colab": {
          "base_uri": "https://localhost:8080/"
        },
        "id": "VIpULHBEA6tG",
        "outputId": "f8e3d4e7-8d6f-40bb-e39c-db1b75141904"
      },
      "execution_count": null,
      "outputs": [
        {
          "output_type": "stream",
          "name": "stdout",
          "text": [
            "[(78, 45, 32, 19, 82, 77, 40, 39)]\n"
          ]
        }
      ]
    },
    {
      "cell_type": "code",
      "source": [
        "list"
      ],
      "metadata": {
        "colab": {
          "base_uri": "https://localhost:8080/"
        },
        "id": "Vkgmn0_pBEi9",
        "outputId": "ceff7702-328c-45d9-b112-7fb52a561b16"
      },
      "execution_count": null,
      "outputs": [
        {
          "output_type": "execute_result",
          "data": {
            "text/plain": [
              "[(78, 45, 32, 19, 82, 77, 40, 39)]"
            ]
          },
          "metadata": {},
          "execution_count": 69
        }
      ]
    },
    {
      "cell_type": "code",
      "source": [
        "list.append(100)"
      ],
      "metadata": {
        "id": "2dsATK4sCxhD"
      },
      "execution_count": null,
      "outputs": []
    },
    {
      "cell_type": "code",
      "source": [
        "list"
      ],
      "metadata": {
        "colab": {
          "base_uri": "https://localhost:8080/"
        },
        "id": "-JEvGwmtC3xO",
        "outputId": "2cf86c70-bf16-4739-ea9f-8aa12a3dbfda"
      },
      "execution_count": null,
      "outputs": [
        {
          "output_type": "execute_result",
          "data": {
            "text/plain": [
              "[(78, 45, 32, 19, 82, 77, 40, 39), 100, 100]"
            ]
          },
          "metadata": {},
          "execution_count": 79
        }
      ]
    },
    {
      "cell_type": "markdown",
      "source": [
        "4."
      ],
      "metadata": {
        "id": "-sd_nX51WvNq"
      }
    },
    {
      "cell_type": "code",
      "source": [
        "listA = [19,32,10,55,31,32,94,29,10,65,77,40,40]"
      ],
      "metadata": {
        "id": "tYVwYorygE3s"
      },
      "execution_count": 54,
      "outputs": []
    },
    {
      "cell_type": "markdown",
      "source": [
        "(a)"
      ],
      "metadata": {
        "id": "6TYBh3n7kXUz"
      }
    },
    {
      "cell_type": "code",
      "source": [
        "listA.remove(32)"
      ],
      "metadata": {
        "id": "gd5imwigiSY3"
      },
      "execution_count": 55,
      "outputs": []
    },
    {
      "cell_type": "code",
      "source": [
        "listA"
      ],
      "metadata": {
        "colab": {
          "base_uri": "https://localhost:8080/"
        },
        "id": "r8shQs1eiXlV",
        "outputId": "f138d8d5-e814-498a-a324-969f91c01a51"
      },
      "execution_count": 56,
      "outputs": [
        {
          "output_type": "execute_result",
          "data": {
            "text/plain": [
              "[19, 10, 55, 31, 32, 94, 29, 10, 65, 77, 40, 40]"
            ]
          },
          "metadata": {},
          "execution_count": 56
        }
      ]
    },
    {
      "cell_type": "markdown",
      "source": [
        "(b)"
      ],
      "metadata": {
        "id": "4D4-JIdHkb2r"
      }
    },
    {
      "cell_type": "code",
      "source": [
        "listA.remove(40)"
      ],
      "metadata": {
        "id": "K66KobGyia8Y"
      },
      "execution_count": 57,
      "outputs": []
    },
    {
      "cell_type": "code",
      "source": [
        "listA"
      ],
      "metadata": {
        "colab": {
          "base_uri": "https://localhost:8080/"
        },
        "id": "ghczeBYNifQa",
        "outputId": "36b0d19a-5b2e-469f-daa4-ada851727a7a"
      },
      "execution_count": 58,
      "outputs": [
        {
          "output_type": "execute_result",
          "data": {
            "text/plain": [
              "[19, 10, 55, 31, 32, 94, 29, 10, 65, 77, 40]"
            ]
          },
          "metadata": {},
          "execution_count": 58
        }
      ]
    },
    {
      "cell_type": "code",
      "source": [
        "listA.remove(40)"
      ],
      "metadata": {
        "id": "OKB5suMMihxW"
      },
      "execution_count": 59,
      "outputs": []
    },
    {
      "cell_type": "code",
      "source": [
        "listA"
      ],
      "metadata": {
        "colab": {
          "base_uri": "https://localhost:8080/"
        },
        "id": "5yshpvijgEuv",
        "outputId": "61c1e05c-7ded-4093-bf01-ec3268660a64"
      },
      "execution_count": 60,
      "outputs": [
        {
          "output_type": "execute_result",
          "data": {
            "text/plain": [
              "[19, 10, 55, 31, 32, 94, 29, 10, 65, 77]"
            ]
          },
          "metadata": {},
          "execution_count": 60
        }
      ]
    },
    {
      "cell_type": "markdown",
      "source": [
        "(c)"
      ],
      "metadata": {
        "id": "9OBTL9GZke_4"
      }
    },
    {
      "cell_type": "code",
      "source": [
        "listA.remove(32)"
      ],
      "metadata": {
        "id": "uagAsbpairvh"
      },
      "execution_count": 61,
      "outputs": []
    },
    {
      "cell_type": "code",
      "source": [
        "listA"
      ],
      "metadata": {
        "colab": {
          "base_uri": "https://localhost:8080/"
        },
        "id": "1bcVk5Eji8qr",
        "outputId": "519f520f-6885-4406-eb2f-f74cb324cdc2"
      },
      "execution_count": 62,
      "outputs": [
        {
          "output_type": "execute_result",
          "data": {
            "text/plain": [
              "[19, 10, 55, 31, 94, 29, 10, 65, 77]"
            ]
          },
          "metadata": {},
          "execution_count": 62
        }
      ]
    },
    {
      "cell_type": "markdown",
      "source": [
        "(d)"
      ],
      "metadata": {
        "id": "UGvQJbaOkh19"
      }
    },
    {
      "cell_type": "code",
      "source": [
        "listA.pop()"
      ],
      "metadata": {
        "colab": {
          "base_uri": "https://localhost:8080/"
        },
        "id": "Fn_ifXrdjA11",
        "outputId": "d275bae6-9fb8-40b0-951d-80de7547af26"
      },
      "execution_count": 63,
      "outputs": [
        {
          "output_type": "execute_result",
          "data": {
            "text/plain": [
              "77"
            ]
          },
          "metadata": {},
          "execution_count": 63
        }
      ]
    },
    {
      "cell_type": "code",
      "source": [
        "listA.insert(9,300)"
      ],
      "metadata": {
        "id": "rLFfIl5ejAvk"
      },
      "execution_count": 64,
      "outputs": []
    },
    {
      "cell_type": "code",
      "source": [
        "listA"
      ],
      "metadata": {
        "colab": {
          "base_uri": "https://localhost:8080/"
        },
        "id": "hycA69sojLNx",
        "outputId": "123e1ef9-027a-4d1f-9ca5-0104bff291f0"
      },
      "execution_count": 65,
      "outputs": [
        {
          "output_type": "execute_result",
          "data": {
            "text/plain": [
              "[19, 10, 55, 31, 94, 29, 10, 65, 300]"
            ]
          },
          "metadata": {},
          "execution_count": 65
        }
      ]
    },
    {
      "cell_type": "markdown",
      "source": [
        "(e)"
      ],
      "metadata": {
        "id": "lT3Wfm5VklIV"
      }
    },
    {
      "cell_type": "code",
      "source": [
        "listA.insert(1,200)"
      ],
      "metadata": {
        "id": "o8vVZqQ4jQHg"
      },
      "execution_count": 66,
      "outputs": []
    },
    {
      "cell_type": "code",
      "source": [
        "listA"
      ],
      "metadata": {
        "colab": {
          "base_uri": "https://localhost:8080/"
        },
        "id": "ONVgGCcqjP7z",
        "outputId": "4268b74f-1809-413d-a104-905d7eb25ed2"
      },
      "execution_count": 67,
      "outputs": [
        {
          "output_type": "execute_result",
          "data": {
            "text/plain": [
              "[19, 200, 10, 55, 31, 94, 29, 10, 65, 300]"
            ]
          },
          "metadata": {},
          "execution_count": 67
        }
      ]
    },
    {
      "cell_type": "markdown",
      "source": [
        "(f)"
      ],
      "metadata": {
        "id": "z29VjyBVkt0O"
      }
    },
    {
      "cell_type": "code",
      "source": [
        "listA"
      ],
      "metadata": {
        "colab": {
          "base_uri": "https://localhost:8080/"
        },
        "id": "i6A8-ZzKkvwx",
        "outputId": "13698d62-8faa-4474-f610-32b41c72231f"
      },
      "execution_count": 71,
      "outputs": [
        {
          "output_type": "execute_result",
          "data": {
            "text/plain": [
              "[19, 200, 10, 55, 31, 94, 29, 10, 65, 300]"
            ]
          },
          "metadata": {},
          "execution_count": 71
        }
      ]
    },
    {
      "cell_type": "code",
      "source": [
        "len(listA)"
      ],
      "metadata": {
        "colab": {
          "base_uri": "https://localhost:8080/"
        },
        "id": "iuP-HoFdjfiI",
        "outputId": "027dee2d-6c82-46bb-af47-21c104e6a0d0"
      },
      "execution_count": 68,
      "outputs": [
        {
          "output_type": "execute_result",
          "data": {
            "text/plain": [
              "10"
            ]
          },
          "metadata": {},
          "execution_count": 68
        }
      ]
    },
    {
      "cell_type": "code",
      "source": [
        "max(listA)"
      ],
      "metadata": {
        "colab": {
          "base_uri": "https://localhost:8080/"
        },
        "id": "GRzlU-tZjn2S",
        "outputId": "da5e3ecf-9dc3-4b9c-ca4f-37057fe1a7c3"
      },
      "execution_count": 69,
      "outputs": [
        {
          "output_type": "execute_result",
          "data": {
            "text/plain": [
              "300"
            ]
          },
          "metadata": {},
          "execution_count": 69
        }
      ]
    },
    {
      "cell_type": "code",
      "source": [
        "print(sum(listA))"
      ],
      "metadata": {
        "colab": {
          "base_uri": "https://localhost:8080/"
        },
        "id": "wMUPCe-sjnrG",
        "outputId": "fefbcfa5-a27a-41e5-9689-03d1eabcc8e4"
      },
      "execution_count": 70,
      "outputs": [
        {
          "output_type": "stream",
          "name": "stdout",
          "text": [
            "813\n"
          ]
        }
      ]
    },
    {
      "cell_type": "code",
      "source": [],
      "metadata": {
        "id": "PFcjzvrcjfZw"
      },
      "execution_count": null,
      "outputs": []
    },
    {
      "cell_type": "markdown",
      "source": [
        "5."
      ],
      "metadata": {
        "id": "sGDEJ8P1Uzaf"
      }
    },
    {
      "cell_type": "code",
      "source": [
        "str = \"The day has been long\""
      ],
      "metadata": {
        "id": "r6VP8fcLU0_C"
      },
      "execution_count": 23,
      "outputs": []
    },
    {
      "cell_type": "markdown",
      "source": [
        "(a)"
      ],
      "metadata": {
        "id": "6NF4arEfVBwB"
      }
    },
    {
      "cell_type": "code",
      "source": [
        "str\n",
        "print(str.translate('4'))"
      ],
      "metadata": {
        "colab": {
          "base_uri": "https://localhost:8080/"
        },
        "id": "vpcwZQsnYH9J",
        "outputId": "90e604f7-b92d-4255-8016-7795e3598110"
      },
      "execution_count": null,
      "outputs": [
        {
          "output_type": "stream",
          "name": "stdout",
          "text": [
            "The ay has been long\n"
          ]
        }
      ]
    },
    {
      "cell_type": "markdown",
      "source": [
        "(b)"
      ],
      "metadata": {
        "id": "xaNo1MuLVGLV"
      }
    },
    {
      "cell_type": "code",
      "source": [
        "print(\"The ay has been long   \"  *4)"
      ],
      "metadata": {
        "colab": {
          "base_uri": "https://localhost:8080/"
        },
        "id": "jb4Ms0HkRWNi",
        "outputId": "2361311e-0d30-4c4b-d600-9699218e03a7"
      },
      "execution_count": null,
      "outputs": [
        {
          "output_type": "stream",
          "name": "stdout",
          "text": [
            "The ay has been long   The ay has been long   The ay has been long   The ay has been long   \n"
          ]
        }
      ]
    },
    {
      "cell_type": "markdown",
      "source": [
        "(c)"
      ],
      "metadata": {
        "id": "4nrbWiHuVIbk"
      }
    },
    {
      "cell_type": "code",
      "source": [
        "print(\"The ay has been long \\n\"*3)"
      ],
      "metadata": {
        "colab": {
          "base_uri": "https://localhost:8080/"
        },
        "id": "mmlUZrsCR7e6",
        "outputId": "bbc5f604-2e19-42a1-8889-6265fd68cecf"
      },
      "execution_count": null,
      "outputs": [
        {
          "output_type": "stream",
          "name": "stdout",
          "text": [
            "The ay has been long \n",
            "The ay has been long \n",
            "The ay has been long \n",
            "\n"
          ]
        }
      ]
    },
    {
      "cell_type": "markdown",
      "source": [
        "(d)"
      ],
      "metadata": {
        "id": "5Y_EYeNDVMuS"
      }
    },
    {
      "cell_type": "code",
      "source": [
        "print(str.replace(\"h\", \"A\"))"
      ],
      "metadata": {
        "colab": {
          "base_uri": "https://localhost:8080/"
        },
        "id": "zDiBrMHFmhj2",
        "outputId": "12207514-f9ae-4571-9dba-17100c4d974f"
      },
      "execution_count": null,
      "outputs": [
        {
          "output_type": "stream",
          "name": "stdout",
          "text": [
            "TAe ay Aas been long\n"
          ]
        }
      ]
    },
    {
      "cell_type": "markdown",
      "source": [
        "(e)"
      ],
      "metadata": {
        "id": "nU5TWC2pVO4B"
      }
    },
    {
      "cell_type": "code",
      "source": [
        "print(str[4:15])"
      ],
      "metadata": {
        "colab": {
          "base_uri": "https://localhost:8080/"
        },
        "id": "e6MClAfvUzGx",
        "outputId": "acca7ef3-f4e8-44cb-b4d8-db2c9085b0e6"
      },
      "execution_count": null,
      "outputs": [
        {
          "output_type": "stream",
          "name": "stdout",
          "text": [
            "ay has been\n"
          ]
        }
      ]
    },
    {
      "cell_type": "markdown",
      "source": [
        "(f)"
      ],
      "metadata": {
        "id": "HarTi8MbVR0y"
      }
    },
    {
      "cell_type": "code",
      "source": [
        "len(str[4:15])"
      ],
      "metadata": {
        "colab": {
          "base_uri": "https://localhost:8080/"
        },
        "id": "05q2Wu0aVzT7",
        "outputId": "4c95b23f-82ef-4320-c41e-35c0410e9569"
      },
      "execution_count": null,
      "outputs": [
        {
          "output_type": "execute_result",
          "data": {
            "text/plain": [
              "11"
            ]
          },
          "metadata": {},
          "execution_count": 69
        }
      ]
    },
    {
      "cell_type": "code",
      "source": [],
      "metadata": {
        "id": "tkECrbFCVUHZ"
      },
      "execution_count": null,
      "outputs": []
    }
  ]
}
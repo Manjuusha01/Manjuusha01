{
  "nbformat": 4,
  "nbformat_minor": 0,
  "metadata": {
    "colab": {
      "provenance": []
    },
    "kernelspec": {
      "name": "python3",
      "display_name": "Python 3"
    },
    "language_info": {
      "name": "python"
    }
  },
  "cells": [
    {
      "cell_type": "code",
      "execution_count": null,
      "metadata": {
        "id": "6Owy_xBnzECv"
      },
      "outputs": [],
      "source": []
    },
    {
      "cell_type": "markdown",
      "source": [
        "Practice Problems"
      ],
      "metadata": {
        "id": "yZbkO-38zFFp"
      }
    },
    {
      "cell_type": "code",
      "source": [],
      "metadata": {
        "id": "-E1PanR7zIDI"
      },
      "execution_count": null,
      "outputs": []
    },
    {
      "cell_type": "markdown",
      "source": [
        "1."
      ],
      "metadata": {
        "id": "kpN_NTRyzJQ-"
      }
    },
    {
      "cell_type": "code",
      "source": [
        "str = \"Hello, World!\"\n",
        "print(str[:5])"
      ],
      "metadata": {
        "colab": {
          "base_uri": "https://localhost:8080/"
        },
        "id": "ASGv0UCWzKpx",
        "outputId": "8e87db62-793a-483f-b6b3-ea4d15d7b397"
      },
      "execution_count": null,
      "outputs": [
        {
          "output_type": "stream",
          "name": "stdout",
          "text": [
            "Hello\n"
          ]
        }
      ]
    },
    {
      "cell_type": "markdown",
      "source": [
        "2."
      ],
      "metadata": {
        "id": "c8yyRC2M0TmG"
      }
    },
    {
      "cell_type": "code",
      "source": [
        "str = \"Python is fun\"\n",
        "print(str[6:9])"
      ],
      "metadata": {
        "colab": {
          "base_uri": "https://localhost:8080/"
        },
        "id": "YCi0aDY-0UPR",
        "outputId": "00d5d1ae-4a78-435b-c87e-3ce2e27a5c84"
      },
      "execution_count": null,
      "outputs": [
        {
          "output_type": "stream",
          "name": "stdout",
          "text": [
            " is\n"
          ]
        }
      ]
    },
    {
      "cell_type": "markdown",
      "source": [
        "3."
      ],
      "metadata": {
        "id": "HiFgAwzJ1w8K"
      }
    },
    {
      "cell_type": "code",
      "source": [
        "str = \"Programming\"\n",
        "print(str[3:7])"
      ],
      "metadata": {
        "colab": {
          "base_uri": "https://localhost:8080/"
        },
        "id": "D8RLnQ901yi8",
        "outputId": "8e97db42-e68c-437d-ae20-8c390b78be6e"
      },
      "execution_count": null,
      "outputs": [
        {
          "output_type": "stream",
          "name": "stdout",
          "text": [
            "gram\n"
          ]
        }
      ]
    },
    {
      "cell_type": "markdown",
      "source": [
        "4."
      ],
      "metadata": {
        "id": "B46Mh2uV3BDf"
      }
    },
    {
      "cell_type": "code",
      "source": [
        "str = \"abcdefgh\"\n",
        "print(str[1::2])"
      ],
      "metadata": {
        "colab": {
          "base_uri": "https://localhost:8080/"
        },
        "id": "ichHLcU03C8N",
        "outputId": "e8f77928-f239-4474-9a49-ee704c2a3d67"
      },
      "execution_count": null,
      "outputs": [
        {
          "output_type": "stream",
          "name": "stdout",
          "text": [
            "bdfh\n"
          ]
        }
      ]
    },
    {
      "cell_type": "markdown",
      "source": [
        "5."
      ],
      "metadata": {
        "id": "Yb-mPkR849xe"
      }
    },
    {
      "cell_type": "code",
      "source": [
        "str = \"abcdefg\"\n",
        "print(str[-3:])"
      ],
      "metadata": {
        "colab": {
          "base_uri": "https://localhost:8080/"
        },
        "id": "kbjrzpqw4-x0",
        "outputId": "dbfc93a0-7044-4daa-fa54-a259d260c39c"
      },
      "execution_count": null,
      "outputs": [
        {
          "output_type": "stream",
          "name": "stdout",
          "text": [
            "efg\n"
          ]
        }
      ]
    },
    {
      "cell_type": "markdown",
      "source": [
        "6."
      ],
      "metadata": {
        "id": "1LZQzoQO5puC"
      }
    },
    {
      "cell_type": "code",
      "source": [
        "str = \"Data science\"\n",
        "print(str[-3:])"
      ],
      "metadata": {
        "colab": {
          "base_uri": "https://localhost:8080/"
        },
        "id": "W-jEE-M05rGk",
        "outputId": "c48f05f9-d5c9-4786-f0c2-f901c048cfe6"
      },
      "execution_count": null,
      "outputs": [
        {
          "output_type": "stream",
          "name": "stdout",
          "text": [
            "nce\n"
          ]
        }
      ]
    },
    {
      "cell_type": "markdown",
      "source": [
        "7."
      ],
      "metadata": {
        "id": "FgOiDHyf6Iq9"
      }
    },
    {
      "cell_type": "code",
      "source": [
        "str = \"abcdefghij\"\n",
        "print(str[1::2])"
      ],
      "metadata": {
        "colab": {
          "base_uri": "https://localhost:8080/"
        },
        "id": "yB_yssnF6Jvr",
        "outputId": "fdc96d07-a781-4bed-dd1b-5bcd2bdd0ece"
      },
      "execution_count": null,
      "outputs": [
        {
          "output_type": "stream",
          "name": "stdout",
          "text": [
            "bdfhj\n"
          ]
        }
      ]
    },
    {
      "cell_type": "markdown",
      "source": [
        "8."
      ],
      "metadata": {
        "id": "-MeK7NK96cAi"
      }
    },
    {
      "cell_type": "code",
      "source": [
        "str = \"1234567890\"\n",
        "print(str[::2])"
      ],
      "metadata": {
        "colab": {
          "base_uri": "https://localhost:8080/"
        },
        "id": "aB4pAwO36dNX",
        "outputId": "d62613ab-ac31-41e6-f9e7-1a9058c8b306"
      },
      "execution_count": null,
      "outputs": [
        {
          "output_type": "stream",
          "name": "stdout",
          "text": [
            "13579\n"
          ]
        }
      ]
    },
    {
      "cell_type": "markdown",
      "source": [
        "9."
      ],
      "metadata": {
        "id": "Od9P8lxP6tmZ"
      }
    },
    {
      "cell_type": "code",
      "source": [
        "str = \"Hello\"\n",
        "print(str[::-1])\n"
      ],
      "metadata": {
        "colab": {
          "base_uri": "https://localhost:8080/"
        },
        "id": "anLz9o1R6uwl",
        "outputId": "fc97382b-8cfd-4307-9136-e9b5a596081d"
      },
      "execution_count": null,
      "outputs": [
        {
          "output_type": "stream",
          "name": "stdout",
          "text": [
            "olleH\n"
          ]
        }
      ]
    },
    {
      "cell_type": "markdown",
      "source": [
        "10."
      ],
      "metadata": {
        "id": "UHHTofgm-fbA"
      }
    },
    {
      "cell_type": "code",
      "source": [
        "str = \"abcdefghijk\"\n",
        "print(str[::2])"
      ],
      "metadata": {
        "colab": {
          "base_uri": "https://localhost:8080/"
        },
        "id": "sMCx1hGy-luZ",
        "outputId": "b1199e8f-4fdd-450d-9061-fb5579df9ff2"
      },
      "execution_count": null,
      "outputs": [
        {
          "output_type": "stream",
          "name": "stdout",
          "text": [
            "acegik\n"
          ]
        }
      ]
    }
  ]
}
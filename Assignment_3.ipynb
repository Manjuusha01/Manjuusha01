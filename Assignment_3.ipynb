{
  "nbformat": 4,
  "nbformat_minor": 0,
  "metadata": {
    "colab": {
      "provenance": []
    },
    "kernelspec": {
      "name": "python3",
      "display_name": "Python 3"
    },
    "language_info": {
      "name": "python"
    }
  },
  "cells": [
    {
      "cell_type": "markdown",
      "source": [
        "Assignment Problems"
      ],
      "metadata": {
        "id": "KZgNsBgEaJNT"
      }
    },
    {
      "cell_type": "markdown",
      "source": [
        "1."
      ],
      "metadata": {
        "id": "qXlEQqV3BcZR"
      }
    },
    {
      "cell_type": "code",
      "source": [
        "def middle_value(a, b, c):\n",
        "  result = sorted([a, b, c])\n",
        "  return result[1]\n",
        "\n",
        "a = 5\n",
        "b = 7\n",
        "c = 9\n",
        "\n",
        "print(middle_value(5, 7, 9))"
      ],
      "metadata": {
        "id": "TzPtHsC6aMpk",
        "colab": {
          "base_uri": "https://localhost:8080/"
        },
        "outputId": "f3100510-df1b-4cc3-c325-c90992470ed7"
      },
      "execution_count": null,
      "outputs": [
        {
          "output_type": "stream",
          "name": "stdout",
          "text": [
            "7\n"
          ]
        }
      ]
    },
    {
      "cell_type": "code",
      "source": [
        "def middle_value(a, b, c):\n",
        "  result = sorted([a, b, c])\n",
        "  return result[1]\n",
        "\n",
        "a = 85\n",
        "b = 73\n",
        "c = 90\n",
        "\n",
        "print(middle_value(85, 73, 90))"
      ],
      "metadata": {
        "colab": {
          "base_uri": "https://localhost:8080/"
        },
        "id": "b5ZDPzlqDgro",
        "outputId": "0c4b308a-6923-4d5e-f602-58b8dfaacf2f"
      },
      "execution_count": null,
      "outputs": [
        {
          "output_type": "stream",
          "name": "stdout",
          "text": [
            "85\n"
          ]
        }
      ]
    },
    {
      "cell_type": "code",
      "source": [
        "def middle_value(a, b, c):\n",
        "  result = sorted([a, b, c])\n",
        "  return result[1]\n",
        "\n",
        "a = 11\n",
        "b = 17\n",
        "c = 15\n",
        "\n",
        "print(middle_value(11, 17, 15))"
      ],
      "metadata": {
        "colab": {
          "base_uri": "https://localhost:8080/"
        },
        "id": "G4zq5acEDtgE",
        "outputId": "c67a4e71-c2f6-4607-b304-1171fa6a3d79"
      },
      "execution_count": null,
      "outputs": [
        {
          "output_type": "stream",
          "name": "stdout",
          "text": [
            "15\n"
          ]
        }
      ]
    },
    {
      "cell_type": "markdown",
      "source": [
        "2."
      ],
      "metadata": {
        "id": "-NqWZamSD5ut"
      }
    },
    {
      "cell_type": "code",
      "source": [
        "def add(num1, num2):\n",
        "  return (num1 + num2)\n",
        "def subtract(num1, num2):\n",
        "  return (num1 - num2)\n",
        "def multiple(num1, num2):\n",
        "  return (num1 * num2)\n",
        "def divide(num1, num2):\n",
        "  return (num1 / num2)\n",
        "\n",
        "\n",
        "print(\"SELECT OPERATION\")\n",
        "print(\"1. ADDITION\")\n",
        "print(\"2. SUBTRACTION\")\n",
        "print(\"3. MULTIPLICATION\")\n",
        "print(\"4. DIVISION\")\n",
        "\n",
        "select = input(\"Enter choice (1/2/3/4): \")\n",
        "\n",
        "num1 = int(input(\"Please, Enter the first number : \"))\n",
        "num2 = int(input(\"Please, Enter the second number : \"))\n",
        "\n",
        "if select == '1':\n",
        "  print(\"The sum of two numbers is \" ,add(num1, num2))\n",
        "elif select == '2':\n",
        "  print(\"The subtraction of two numbers is \" ,subtract(num1, num2))\n",
        "elif select == '3':\n",
        "  print(\"The product of two numbers is \" ,multiple(num1, num2))\n",
        "elif select == '4':\n",
        "  print(\"The division of two numbers is \" ,divide(num1, num2))\n",
        "else:\n",
        "  print(\"Invalid input\")"
      ],
      "metadata": {
        "colab": {
          "base_uri": "https://localhost:8080/"
        },
        "id": "cWmLt-FiD8pb",
        "outputId": "3ea416c5-87fe-4d47-a6b6-90c4732fb5a3"
      },
      "execution_count": 12,
      "outputs": [
        {
          "output_type": "stream",
          "name": "stdout",
          "text": [
            "SELECT OPERATION\n",
            "1. ADDITION\n",
            "2. SUBTRACTION\n",
            "3. MULTIPLICATION\n",
            "4. DIVISION\n",
            "Enter choice (1/2/3/4): 3\n",
            "Please, Enter the first number : 12\n",
            "Please, Enter the second number : 30\n",
            "The product of two numbers is  360\n"
          ]
        }
      ]
    },
    {
      "cell_type": "markdown",
      "source": [
        "3."
      ],
      "metadata": {
        "id": "gHzrUTVAZLvo"
      }
    },
    {
      "cell_type": "code",
      "source": [
        "def calculate_hypotenuse(altitude, base):\n",
        "  altitude = x**2\n",
        "  base = y**2\n",
        "\n",
        "  sum_of_sqrs = altitude + base\n",
        "  hypotenuse = sum_of_sqrs**0.5  # for getting the square root\n",
        "  return hypotenuse\n",
        "\n",
        "x = float(input(\"Enter the altitude :\"))\n",
        "y = float(input(\"Enter the base :\"))\n",
        "\n",
        "result = calculate_hypotenuse(x, y)\n",
        "print(\"The value of the hypotenuse is :\" ,result)\n"
      ],
      "metadata": {
        "colab": {
          "base_uri": "https://localhost:8080/"
        },
        "id": "da5QVRDOZMsT",
        "outputId": "44c3b72b-5971-47fd-a8d3-827c633efee1"
      },
      "execution_count": null,
      "outputs": [
        {
          "output_type": "stream",
          "name": "stdout",
          "text": [
            "Enter the altitude :4\n",
            "Enter the base :3\n",
            "The value of the hypotenuse is : 5.0\n"
          ]
        }
      ]
    },
    {
      "cell_type": "markdown",
      "source": [
        "4."
      ],
      "metadata": {
        "id": "N3Pkd7tveFlb"
      }
    },
    {
      "cell_type": "code",
      "source": [
        "def Rectangle(length, width):\n",
        "  length = a\n",
        "  width = b"
      ],
      "metadata": {
        "id": "0SxfbABumAUk"
      },
      "execution_count": null,
      "outputs": []
    },
    {
      "cell_type": "code",
      "source": [
        "def perimeter(length, width):\n",
        "    peri = (2 * (length + width))\n",
        "    return peri\n",
        "l = int(input(\"Enter the length :\"))\n",
        "w = int(input(\"Enter the width :\"))\n",
        "\n",
        "print(\"Perimeter of the rectangle is :\")\n",
        "\n",
        "perimeter(l, w)\n"
      ],
      "metadata": {
        "colab": {
          "base_uri": "https://localhost:8080/"
        },
        "id": "USTTGs8AeGr9",
        "outputId": "5e995ca5-92f7-4d4e-8de5-5ec759ef9965"
      },
      "execution_count": null,
      "outputs": [
        {
          "output_type": "stream",
          "name": "stdout",
          "text": [
            "Enter the length :6\n",
            "Enter the width :4\n",
            "Perimeter of the rectangle is :\n"
          ]
        },
        {
          "output_type": "execute_result",
          "data": {
            "text/plain": [
              "20"
            ]
          },
          "metadata": {},
          "execution_count": 37
        }
      ]
    },
    {
      "cell_type": "code",
      "source": [
        "def area(length, width):\n",
        "    area = length * width\n",
        "    return area\n",
        "l = int(input(\"Enter the length :\"))\n",
        "w = int(input(\"Enter the width :\"))\n",
        "\n",
        "print(\"Area of the rectangle is :\")\n",
        "\n",
        "area(l, w)"
      ],
      "metadata": {
        "colab": {
          "base_uri": "https://localhost:8080/"
        },
        "id": "SZeIAIGKmOIy",
        "outputId": "d01b782b-802b-40ce-aa3b-50623e5b26f2"
      },
      "execution_count": null,
      "outputs": [
        {
          "output_type": "stream",
          "name": "stdout",
          "text": [
            "Enter the length :17\n",
            "Enter the width :13\n",
            "Area of the rectangle is :\n"
          ]
        },
        {
          "output_type": "execute_result",
          "data": {
            "text/plain": [
              "221"
            ]
          },
          "metadata": {},
          "execution_count": 40
        }
      ]
    },
    {
      "cell_type": "code",
      "source": [
        "class Rectangle:\n",
        "  def __init__(self,length,width):\n",
        "    self.length = length\n",
        "    self.width = width\n",
        "\n",
        "  def display(self):\n",
        "    perimeter = 2 * (self.length + self.width)\n",
        "    area = self.length * self.width\n",
        "\n",
        "    print(f\"Length of the Rectangle is : {self.length}\")\n",
        "    print(f\"Width of the Rectangle is : {self.width}\")\n",
        "    print(f\"Perimeter of the Rectangle is : {perimeter}\")\n",
        "    print(f\"Area of the Rectangle is : {area}\")\n",
        "\n",
        "my_rectangle = Rectangle(7, 12)\n",
        "\n",
        "my_rectangle.display()\n"
      ],
      "metadata": {
        "colab": {
          "base_uri": "https://localhost:8080/"
        },
        "id": "0VhPHdbhoADc",
        "outputId": "f637f9fd-ae27-478e-ecbf-5fc2c9c2062b"
      },
      "execution_count": null,
      "outputs": [
        {
          "output_type": "stream",
          "name": "stdout",
          "text": [
            "Length of the Rectangle is : 7\n",
            "Width of the Rectangle is : 12\n",
            "Perimeter of the Rectangle is : 38\n",
            "Area of the Rectangle is : 84\n"
          ]
        }
      ]
    },
    {
      "cell_type": "markdown",
      "source": [
        "5."
      ],
      "metadata": {
        "id": "2oyyDEZbsU5M"
      }
    },
    {
      "cell_type": "code",
      "source": [
        "class BankAccount:\n",
        "  def __init__(self, accountNumber, name, balance):\n",
        "     self.accountNumber = accountNumber\n",
        "     self.name = name\n",
        "     self.balance = balance\n",
        "\n",
        "  def Deposit(self, amount):\n",
        "    if amount > 0:\n",
        "       self.balance += amount\n",
        "       print(f\"Deposit of {amount} successfully made. \")\n",
        "    else:\n",
        "      print(\"Please enter a valid amount for deposit. \")\n",
        "  def Withdrawal(self, amount):\n",
        "    if amount <= self.balance:\n",
        "      self.balance -= amount\n",
        "      print(f\"Withdrawal of {amount} successfully processed. \")\n",
        "    else:\n",
        "      print(\"Insufficient funds!\")\n",
        "  def BankFees(self):\n",
        "    fee = 0.05 * self.balance\n",
        "    self.balance -= fee\n",
        "    print(f\"Bank fee of {fee} applied. \")\n",
        "\n",
        "  def Display(self):\n",
        "    print(f\"ACCOUNT NUMBER: {self.accountNumber}\")\n",
        "    print(f\"ACCOUNT HOLDER NAME: {self.name}\")\n",
        "    print(f\"ACCOUNT BALANCE: {self.balance}\")\n",
        "\n",
        "account = BankAccount(123456789, \"Manu Das\", 5000)\n",
        "account.Display()\n",
        "\n",
        "account.Deposit(10000)\n",
        "account.Withdrawal(5000)\n",
        "account.Display()\n",
        "\n",
        "account.BankFees()\n",
        "account.Display()\n",
        "\n"
      ],
      "metadata": {
        "id": "xABfcDGEsWP3",
        "colab": {
          "base_uri": "https://localhost:8080/"
        },
        "outputId": "72fc3490-cccc-4471-dbc5-40132358da49"
      },
      "execution_count": 11,
      "outputs": [
        {
          "output_type": "stream",
          "name": "stdout",
          "text": [
            "ACCOUNT NUMBER: 123456789\n",
            "ACCOUNT HOLDER NAME: Manu Das\n",
            "ACCOUNT BALANCE: 5000\n",
            "Deposit of 10000 successfully made. \n",
            "Withdrawal of 5000 successfully processed. \n",
            "ACCOUNT NUMBER: 123456789\n",
            "ACCOUNT HOLDER NAME: Manu Das\n",
            "ACCOUNT BALANCE: 10000\n",
            "Bank fee of 500.0 applied. \n",
            "ACCOUNT NUMBER: 123456789\n",
            "ACCOUNT HOLDER NAME: Manu Das\n",
            "ACCOUNT BALANCE: 9500.0\n"
          ]
        }
      ]
    },
    {
      "cell_type": "code",
      "source": [],
      "metadata": {
        "id": "FE3LBm0qoABM"
      },
      "execution_count": null,
      "outputs": []
    },
    {
      "cell_type": "code",
      "source": [],
      "metadata": {
        "id": "KEAK3QmWmkxT"
      },
      "execution_count": null,
      "outputs": []
    }
  ]
}